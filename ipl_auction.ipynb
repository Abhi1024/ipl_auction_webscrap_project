{
 "cells": [
  {
   "cell_type": "markdown",
   "metadata": {},
   "source": [
    "<h1>IPL Auctions</h1>"
   ]
  },
  {
   "cell_type": "code",
   "execution_count": 98,
   "metadata": {},
   "outputs": [],
   "source": [
    "import requests\n",
    "import pandas as pd\n",
    "from bs4 import BeautifulSoup"
   ]
  },
  {
   "cell_type": "code",
   "execution_count": 99,
   "metadata": {},
   "outputs": [
    {
     "data": {
      "text/plain": [
       "<Response [200]>"
      ]
     },
     "execution_count": 99,
     "metadata": {},
     "output_type": "execute_result"
    }
   ],
   "source": [
    "web = requests.get(\"https://www.iplt20.com/auction/2023\")\n",
    "web"
   ]
  },
  {
   "cell_type": "code",
   "execution_count": 100,
   "metadata": {},
   "outputs": [],
   "source": [
    "soup = BeautifulSoup(web.text,\"html.parser\")"
   ]
  },
  {
   "cell_type": "markdown",
   "metadata": {},
   "source": [
    "<h2>Title Extraction</h2>"
   ]
  },
  {
   "cell_type": "code",
   "execution_count": 101,
   "metadata": {},
   "outputs": [],
   "source": [
    "table = soup.find(\"div\", class_ = \"ih-points-table-sec aulistview\")\n",
    "table_title = table.find_all(\"th\")"
   ]
  },
  {
   "cell_type": "code",
   "execution_count": 102,
   "metadata": {},
   "outputs": [
    {
     "name": "stdout",
     "output_type": "stream",
     "text": [
      "['TEAM', 'FUNDS REMAINING', 'OVERSEAS PLAYERS ', 'TOTAL PLAYERS']\n"
     ]
    }
   ],
   "source": [
    "heading = []\n",
    "\n",
    "for i in table_title[1:]:\n",
    "    name = i.text\n",
    "    heading.append(name)\n",
    "print(heading)"
   ]
  },
  {
   "cell_type": "code",
   "execution_count": 103,
   "metadata": {},
   "outputs": [
    {
     "data": {
      "text/html": [
       "<div>\n",
       "<style scoped>\n",
       "    .dataframe tbody tr th:only-of-type {\n",
       "        vertical-align: middle;\n",
       "    }\n",
       "\n",
       "    .dataframe tbody tr th {\n",
       "        vertical-align: top;\n",
       "    }\n",
       "\n",
       "    .dataframe thead th {\n",
       "        text-align: right;\n",
       "    }\n",
       "</style>\n",
       "<table border=\"1\" class=\"dataframe\">\n",
       "  <thead>\n",
       "    <tr style=\"text-align: right;\">\n",
       "      <th></th>\n",
       "      <th>TEAM</th>\n",
       "      <th>FUNDS REMAINING</th>\n",
       "      <th>OVERSEAS PLAYERS</th>\n",
       "      <th>TOTAL PLAYERS</th>\n",
       "    </tr>\n",
       "  </thead>\n",
       "  <tbody>\n",
       "  </tbody>\n",
       "</table>\n",
       "</div>"
      ],
      "text/plain": [
       "Empty DataFrame\n",
       "Columns: [TEAM, FUNDS REMAINING, OVERSEAS PLAYERS , TOTAL PLAYERS]\n",
       "Index: []"
      ]
     },
     "execution_count": 103,
     "metadata": {},
     "output_type": "execute_result"
    }
   ],
   "source": [
    "df = pd.DataFrame(columns=heading)\n",
    "df"
   ]
  },
  {
   "cell_type": "markdown",
   "metadata": {},
   "source": [
    "<h1>Team Data</h1>"
   ]
  },
  {
   "cell_type": "code",
   "execution_count": 104,
   "metadata": {},
   "outputs": [
    {
     "name": "stdout",
     "output_type": "stream",
     "text": [
      "[<tr>\n",
      "<td class=\"ih-t-color\">\n",
      "<div class=\"ih-pt-ic\">\n",
      "<div class=\"ih-pt-img\" style=\"width: 60px\">\n",
      "<img alt=\"\" src=\"https://documents.iplt20.com/ipl/franchises/1671190443_CSKroundbig%20%283%29%201.png\"/>\n",
      "</div>\n",
      "<h2 class=\"ih-pt-cont\">Chennai Super Kings</h2>\n",
      "</div>\n",
      "</td>\n",
      "<td>₹1,50,00,000</td>\n",
      "<td>8</td>\n",
      "<td>25</td>\n",
      "</tr>, <tr>\n",
      "<td class=\"ih-t-color\">\n",
      "<div class=\"ih-pt-ic\">\n",
      "<div class=\"ih-pt-img\" style=\"width: 60px\">\n",
      "<img alt=\"\" src=\"https://documents.iplt20.com/ipl/franchises/1671190785_DCroundbig%20%282%29%201.png\"/>\n",
      "</div>\n",
      "<h2 class=\"ih-pt-cont\">Delhi Capitals</h2>\n",
      "</div>\n",
      "</td>\n",
      "<td>₹4,45,00,000</td>\n",
      "<td>8</td>\n",
      "<td>25</td>\n",
      "</tr>, <tr>\n",
      "<td class=\"ih-t-color\">\n",
      "<div class=\"ih-pt-ic\">\n",
      "<div class=\"ih-pt-img\" style=\"width: 60px\">\n",
      "<img alt=\"\" src=\"https://documents.iplt20.com/ipl/franchises/1671190498_GTroundbig%20%282%29%201.png\"/>\n",
      "</div>\n",
      "<h2 class=\"ih-pt-cont\">Gujarat Titans</h2>\n",
      "</div>\n",
      "</td>\n",
      "<td>₹4,45,00,000</td>\n",
      "<td>8</td>\n",
      "<td>25</td>\n",
      "</tr>, <tr>\n",
      "<td class=\"ih-t-color\">\n",
      "<div class=\"ih-pt-ic\">\n",
      "<div class=\"ih-pt-img\" style=\"width: 60px\">\n",
      "<img alt=\"\" src=\"https://documents.iplt20.com/ipl/franchises/1671190381_KKRroundbig%20%282%29%201.png\"/>\n",
      "</div>\n",
      "<h2 class=\"ih-pt-cont\">Kolkata Knight Riders</h2>\n",
      "</div>\n",
      "</td>\n",
      "<td>₹1,65,00,000</td>\n",
      "<td>8</td>\n",
      "<td>22</td>\n",
      "</tr>, <tr>\n",
      "<td class=\"ih-t-color\">\n",
      "<div class=\"ih-pt-ic\">\n",
      "<div class=\"ih-pt-img\" style=\"width: 60px\">\n",
      "<img alt=\"\" src=\"https://documents.iplt20.com/ipl/franchises/1671190538_LSGroundbig%20%283%29%201.png\"/>\n",
      "</div>\n",
      "<h2 class=\"ih-pt-cont\">Lucknow Super Giants</h2>\n",
      "</div>\n",
      "</td>\n",
      "<td>₹3,55,00,000</td>\n",
      "<td>8</td>\n",
      "<td>25</td>\n",
      "</tr>, <tr>\n",
      "<td class=\"ih-t-color\">\n",
      "<div class=\"ih-pt-ic\">\n",
      "<div class=\"ih-pt-img\" style=\"width: 60px\">\n",
      "<img alt=\"\" src=\"https://documents.iplt20.com/ipl/franchises/1671190671_MIroundbig%20%283%29%201.png\"/>\n",
      "</div>\n",
      "<h2 class=\"ih-pt-cont\">Mumbai Indians</h2>\n",
      "</div>\n",
      "</td>\n",
      "<td>₹5,00,000</td>\n",
      "<td>8</td>\n",
      "<td>24</td>\n",
      "</tr>, <tr>\n",
      "<td class=\"ih-t-color\">\n",
      "<div class=\"ih-pt-ic\">\n",
      "<div class=\"ih-pt-img\" style=\"width: 60px\">\n",
      "<img alt=\"\" src=\"https://documents.iplt20.com/ipl/franchises/1671188073_PBKSroundbig%20%282%29%201.png\"/>\n",
      "</div>\n",
      "<h2 class=\"ih-pt-cont\">Punjab Kings</h2>\n",
      "</div>\n",
      "</td>\n",
      "<td>₹12,20,00,000</td>\n",
      "<td>7</td>\n",
      "<td>22</td>\n",
      "</tr>, <tr>\n",
      "<td class=\"ih-t-color\">\n",
      "<div class=\"ih-pt-ic\">\n",
      "<div class=\"ih-pt-img\" style=\"width: 60px\">\n",
      "<img alt=\"\" src=\"https://documents.iplt20.com/ipl/franchises/1671190713_RRroundbig%20%283%29%201.png\"/>\n",
      "</div>\n",
      "<h2 class=\"ih-pt-cont\">Rajasthan Royals</h2>\n",
      "</div>\n",
      "</td>\n",
      "<td>₹3,35,00,000</td>\n",
      "<td>8</td>\n",
      "<td>25</td>\n",
      "</tr>, <tr>\n",
      "<td class=\"ih-t-color\">\n",
      "<div class=\"ih-pt-ic\">\n",
      "<div class=\"ih-pt-img\" style=\"width: 60px\">\n",
      "<img alt=\"\" src=\"https://documents.iplt20.com/ipl/franchises/1671190586_RCBroundbig%20%282%29%201.png\"/>\n",
      "</div>\n",
      "<h2 class=\"ih-pt-cont\">Royal Challengers Bangalore</h2>\n",
      "</div>\n",
      "</td>\n",
      "<td>₹1,75,00,000</td>\n",
      "<td>8</td>\n",
      "<td>25</td>\n",
      "</tr>, <tr>\n",
      "<td class=\"ih-t-color\">\n",
      "<div class=\"ih-pt-ic\">\n",
      "<div class=\"ih-pt-img\" style=\"width: 60px\">\n",
      "<img alt=\"\" src=\"https://documents.iplt20.com/ipl/franchises/1671190639_SRHroundbig%20%282%29%201.png\"/>\n",
      "</div>\n",
      "<h2 class=\"ih-pt-cont\">Sunrisers Hyderabad</h2>\n",
      "</div>\n",
      "</td>\n",
      "<td>₹6,55,00,000</td>\n",
      "<td>8</td>\n",
      "<td>25</td>\n",
      "</tr>]\n"
     ]
    }
   ],
   "source": [
    "row = table.find_all(\"tr\")[1:]\n",
    "print(row)"
   ]
  },
  {
   "cell_type": "code",
   "execution_count": 105,
   "metadata": {},
   "outputs": [
    {
     "name": "stdout",
     "output_type": "stream",
     "text": [
      "                          TEAM FUNDS REMAINING OVERSEAS PLAYERS  TOTAL PLAYERS\n",
      "0          Chennai Super Kings    ₹1,50,00,000                 8            25\n",
      "1               Delhi Capitals    ₹4,45,00,000                 8            25\n",
      "2               Gujarat Titans    ₹4,45,00,000                 8            25\n",
      "3        Kolkata Knight Riders    ₹1,65,00,000                 8            22\n",
      "4         Lucknow Super Giants    ₹3,55,00,000                 8            25\n",
      "5               Mumbai Indians       ₹5,00,000                 8            24\n",
      "6                 Punjab Kings   ₹12,20,00,000                 7            22\n",
      "7             Rajasthan Royals    ₹3,35,00,000                 8            25\n",
      "8  Royal Challengers Bangalore    ₹1,75,00,000                 8            25\n",
      "9          Sunrisers Hyderabad    ₹6,55,00,000                 8            25\n"
     ]
    }
   ],
   "source": [
    "for i in row:\n",
    "    first_dt = i.find_all(\"td\")[0].find(\"div\", class_=\"ih-pt-ic\").text.strip()\n",
    "    # print(first_dt)\n",
    "    data = i.find_all(\"td\")[1:]\n",
    "    # print(data)\n",
    "    row1 = [tr.text for tr in data]\n",
    "    # print(row1)\n",
    "\n",
    "    row1.insert(0,first_dt)\n",
    "    # print(row1)\n",
    "\n",
    "    l = len(df)\n",
    "    # print(l)\n",
    "\n",
    "    df.loc[l] = row1\n",
    "print(df)"
   ]
  },
  {
   "cell_type": "code",
   "execution_count": 106,
   "metadata": {},
   "outputs": [],
   "source": [
    "df.to_csv(\"ipl_auction.csv\")"
   ]
  },
  {
   "cell_type": "code",
   "execution_count": null,
   "metadata": {},
   "outputs": [],
   "source": []
  }
 ],
 "metadata": {
  "kernelspec": {
   "display_name": "Python 3",
   "language": "python",
   "name": "python3"
  },
  "language_info": {
   "codemirror_mode": {
    "name": "ipython",
    "version": 3
   },
   "file_extension": ".py",
   "mimetype": "text/x-python",
   "name": "python",
   "nbconvert_exporter": "python",
   "pygments_lexer": "ipython3",
   "version": "3.9.1"
  }
 },
 "nbformat": 4,
 "nbformat_minor": 2
}
